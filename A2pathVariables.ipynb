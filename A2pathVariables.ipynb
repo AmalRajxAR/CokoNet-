{
 "cells": [
  {
   "cell_type": "markdown",
   "id": "0be7b543-eb43-4a52-8181-31f6eeda221a",
   "metadata": {},
   "source": [
    "# Variables in python"
   ]
  },
  {
   "cell_type": "code",
   "execution_count": 1,
   "id": "b35aacd2-f0e9-4a59-80ca-af36c70a9b88",
   "metadata": {},
   "outputs": [],
   "source": [
    "myName = \"AmalRaj\""
   ]
  },
  {
   "cell_type": "code",
   "execution_count": 2,
   "id": "621cff01-e79f-4fc7-9545-bec24ad93170",
   "metadata": {},
   "outputs": [],
   "source": [
    "age = 21"
   ]
  },
  {
   "cell_type": "code",
   "execution_count": 3,
   "id": "332c536a-7bcd-467d-8039-67301c5597af",
   "metadata": {},
   "outputs": [],
   "source": [
    "my_text = \"hello cokonet\""
   ]
  },
  {
   "cell_type": "code",
   "execution_count": 4,
   "id": "4ad4cbf9-3bf1-4f86-b1e6-22f454b6b247",
   "metadata": {},
   "outputs": [],
   "source": [
    "gpa = 8.6"
   ]
  },
  {
   "cell_type": "code",
   "execution_count": 5,
   "id": "3e783ef8-59fa-4166-b81a-351ac0e6f7b6",
   "metadata": {},
   "outputs": [],
   "source": [
    "_gmail = \"amalrajxfr@gmail.com\""
   ]
  },
  {
   "cell_type": "code",
   "execution_count": 6,
   "id": "79fda5d7-fd6f-41c1-ba67-163a97b40f7c",
   "metadata": {},
   "outputs": [],
   "source": [
    "hobbies_ = \"Chess nd sketching\""
   ]
  },
  {
   "cell_type": "code",
   "execution_count": 7,
   "id": "f8cae1b8-bb37-4a63-bba2-8c0bbae7fd89",
   "metadata": {},
   "outputs": [],
   "source": [
    "bestfrienD = \"Amna\""
   ]
  },
  {
   "cell_type": "code",
   "execution_count": 8,
   "id": "0a25f7f4-6d9e-4d52-91e8-f666593a0956",
   "metadata": {},
   "outputs": [],
   "source": [
    "grade10 = 86"
   ]
  },
  {
   "cell_type": "code",
   "execution_count": 9,
   "id": "ee5f8e1c-67f7-4835-9830-0447010a6960",
   "metadata": {},
   "outputs": [],
   "source": [
    "grade12 = 79"
   ]
  },
  {
   "cell_type": "code",
   "execution_count": 10,
   "id": "fd425250-db22-49c7-b701-8fa2f92c4fca",
   "metadata": {},
   "outputs": [],
   "source": [
    "dEGREE = \"BCA\""
   ]
  },
  {
   "cell_type": "code",
   "execution_count": 11,
   "id": "94680a4f-aff3-406f-bc5a-f29ff4c0aa32",
   "metadata": {},
   "outputs": [
    {
     "name": "stdout",
     "output_type": "stream",
     "text": [
      "AmalRaj\n"
     ]
    }
   ],
   "source": [
    "print(myName)"
   ]
  },
  {
   "cell_type": "code",
   "execution_count": 12,
   "id": "1a33df49-faf8-4923-9503-bec5bb648469",
   "metadata": {},
   "outputs": [
    {
     "data": {
      "text/plain": [
       "'Amna'"
      ]
     },
     "execution_count": 12,
     "metadata": {},
     "output_type": "execute_result"
    }
   ],
   "source": [
    "bestfrienD"
   ]
  },
  {
   "cell_type": "code",
   "execution_count": 13,
   "id": "3aea722e-b974-4aee-98bf-07de6f47a17a",
   "metadata": {},
   "outputs": [
    {
     "data": {
      "text/plain": [
       "float"
      ]
     },
     "execution_count": 13,
     "metadata": {},
     "output_type": "execute_result"
    }
   ],
   "source": [
    "type(gpa)"
   ]
  },
  {
   "cell_type": "code",
   "execution_count": null,
   "id": "55f9b95c-b8e5-4d3a-9073-bccc5b7bb199",
   "metadata": {},
   "outputs": [],
   "source": []
  }
 ],
 "metadata": {
  "kernelspec": {
   "display_name": "Python [conda env:base] *",
   "language": "python",
   "name": "conda-base-py"
  },
  "language_info": {
   "codemirror_mode": {
    "name": "ipython",
    "version": 3
   },
   "file_extension": ".py",
   "mimetype": "text/x-python",
   "name": "python",
   "nbconvert_exporter": "python",
   "pygments_lexer": "ipython3",
   "version": "3.13.5"
  }
 },
 "nbformat": 4,
 "nbformat_minor": 5
}
