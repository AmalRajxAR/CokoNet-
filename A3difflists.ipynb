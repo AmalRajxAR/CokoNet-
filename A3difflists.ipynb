{
 "cells": [
  {
   "cell_type": "markdown",
   "id": "4abfef2f-e0ae-41ee-b1f6-f7074c28a6cc",
   "metadata": {},
   "source": [
    "## <center> Types of lists in Python"
   ]
  },
  {
   "cell_type": "markdown",
   "id": "677f88fb-9cdf-48b1-b966-6107ab3435e4",
   "metadata": {},
   "source": [
    "### List"
   ]
  },
  {
   "cell_type": "markdown",
   "id": "fb957697-19bf-46a4-96c9-ffc7bd36d0e5",
   "metadata": {},
   "source": [
    "### Lists are ordered and changable collections of data allowing duplicate members"
   ]
  },
  {
   "cell_type": "code",
   "execution_count": 2,
   "id": "b5189c3e-2c14-4532-b4c6-7056b975b03a",
   "metadata": {},
   "outputs": [],
   "source": [
    "enteLists = [1,2,3,4,5]"
   ]
  },
  {
   "cell_type": "code",
   "execution_count": 3,
   "id": "7027f79d-b842-46f5-b121-0ea743f5a65f",
   "metadata": {},
   "outputs": [
    {
     "data": {
      "text/plain": [
       "[1, 2, 3, 4, 5]"
      ]
     },
     "execution_count": 3,
     "metadata": {},
     "output_type": "execute_result"
    }
   ],
   "source": [
    "enteLists"
   ]
  },
  {
   "cell_type": "code",
   "execution_count": 4,
   "id": "04b7e8d3-3011-4849-b47d-efa91f14b168",
   "metadata": {},
   "outputs": [
    {
     "data": {
      "text/plain": [
       "list"
      ]
     },
     "execution_count": 4,
     "metadata": {},
     "output_type": "execute_result"
    }
   ],
   "source": [
    "type(enteLists)"
   ]
  },
  {
   "cell_type": "markdown",
   "id": "3aeb46a7-0c0b-443c-b30f-42fa2c7d882e",
   "metadata": {},
   "source": [
    "### Tuples"
   ]
  },
  {
   "cell_type": "markdown",
   "id": "55413939-ee1e-4191-8cb3-950b90521453",
   "metadata": {},
   "source": [
    "#### Ordered nd unchangeable allows dupicate members"
   ]
  },
  {
   "cell_type": "code",
   "execution_count": 5,
   "id": "41621978-7a0f-4679-a337-6b4cf95ae06a",
   "metadata": {},
   "outputs": [],
   "source": [
    "ithTuple = (\"Luffy\",\"Zoro\",\"Nami\")"
   ]
  },
  {
   "cell_type": "code",
   "execution_count": 6,
   "id": "a0b02b8b-64e9-4f9e-b30d-90470d3eb2d6",
   "metadata": {},
   "outputs": [
    {
     "data": {
      "text/plain": [
       "('Luffy', 'Zoro', 'Nami')"
      ]
     },
     "execution_count": 6,
     "metadata": {},
     "output_type": "execute_result"
    }
   ],
   "source": [
    "ithTuple"
   ]
  },
  {
   "cell_type": "code",
   "execution_count": 7,
   "id": "3197c59a-4d5f-440f-b1dd-aedc8c75dd5d",
   "metadata": {},
   "outputs": [
    {
     "data": {
      "text/plain": [
       "tuple"
      ]
     },
     "execution_count": 7,
     "metadata": {},
     "output_type": "execute_result"
    }
   ],
   "source": [
    "type(ithTuple)"
   ]
  },
  {
   "cell_type": "markdown",
   "id": "9130cdad-cb7a-4934-9401-8d36d358d935",
   "metadata": {},
   "source": [
    "### Dictionaries"
   ]
  },
  {
   "cell_type": "markdown",
   "id": "dd1c97cc-aae1-4594-aa54-bad609eb17a2",
   "metadata": {},
   "source": [
    "### Unordered nd changeable with no duplicate members"
   ]
  },
  {
   "cell_type": "code",
   "execution_count": 10,
   "id": "e530a3cc-cbcd-4346-bc02-df7135646c51",
   "metadata": {},
   "outputs": [],
   "source": [
    "pinneDictionaries = { \"car\":'mustang' , \"color\":'blue' , \"model\":1969 }"
   ]
  },
  {
   "cell_type": "code",
   "execution_count": 11,
   "id": "2ba88657-cb54-49a1-a4a6-bd7446909316",
   "metadata": {},
   "outputs": [
    {
     "data": {
      "text/plain": [
       "{'car': 'mustang', 'color': 'blue', 'model': 1969}"
      ]
     },
     "execution_count": 11,
     "metadata": {},
     "output_type": "execute_result"
    }
   ],
   "source": [
    "pinneDictionaries\n"
   ]
  },
  {
   "cell_type": "code",
   "execution_count": 12,
   "id": "f2f525c8-e7a5-440a-a62e-4cfb8878c6a3",
   "metadata": {},
   "outputs": [
    {
     "data": {
      "text/plain": [
       "dict"
      ]
     },
     "execution_count": 12,
     "metadata": {},
     "output_type": "execute_result"
    }
   ],
   "source": [
    "type(pinneDictionaries)"
   ]
  }
 ],
 "metadata": {
  "kernelspec": {
   "display_name": "Python [conda env:base] *",
   "language": "python",
   "name": "conda-base-py"
  },
  "language_info": {
   "codemirror_mode": {
    "name": "ipython",
    "version": 3
   },
   "file_extension": ".py",
   "mimetype": "text/x-python",
   "name": "python",
   "nbconvert_exporter": "python",
   "pygments_lexer": "ipython3",
   "version": "3.13.5"
  }
 },
 "nbformat": 4,
 "nbformat_minor": 5
}
