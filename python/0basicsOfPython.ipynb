{
 "cells": [
  {
   "cell_type": "markdown",
   "id": "085e0f15-c220-4943-97a9-873405867c4c",
   "metadata": {},
   "source": [
    "# <center>BASICS OF PYTHON</center>"
   ]
  },
  {
   "cell_type": "markdown",
   "id": "37792808-350d-4083-a2ef-c3f9d5411ddc",
   "metadata": {},
   "source": [
    "## Creating Variables "
   ]
  },
  {
   "cell_type": "code",
   "execution_count": 1,
   "id": "5125f301-aaf8-4c5f-9d0e-c1870464b9bb",
   "metadata": {},
   "outputs": [],
   "source": [
    "var1 = \"Hello\""
   ]
  },
  {
   "cell_type": "code",
   "execution_count": 2,
   "id": "56b9cba2-baee-4f6f-9bfb-7c607f188ab4",
   "metadata": {},
   "outputs": [
    {
     "data": {
      "text/plain": [
       "'Hello'"
      ]
     },
     "execution_count": 2,
     "metadata": {},
     "output_type": "execute_result"
    }
   ],
   "source": [
    "var1"
   ]
  },
  {
   "cell_type": "code",
   "execution_count": 3,
   "id": "b0c29ada-09e0-4f8b-9897-fedcfe7affa1",
   "metadata": {},
   "outputs": [
    {
     "name": "stdout",
     "output_type": "stream",
     "text": [
      "Hello\n"
     ]
    }
   ],
   "source": [
    "print(var1)"
   ]
  },
  {
   "cell_type": "code",
   "execution_count": 4,
   "id": "53dc14f8-0c7f-4959-86aa-190b830743a2",
   "metadata": {},
   "outputs": [],
   "source": [
    "text = \"Hello world\""
   ]
  },
  {
   "cell_type": "code",
   "execution_count": 5,
   "id": "e7813b1f-40f0-4eca-adfd-32fe8b5a424c",
   "metadata": {},
   "outputs": [
    {
     "data": {
      "text/plain": [
       "'Hello world'"
      ]
     },
     "execution_count": 5,
     "metadata": {},
     "output_type": "execute_result"
    }
   ],
   "source": [
    "text"
   ]
  },
  {
   "cell_type": "code",
   "execution_count": 6,
   "id": "0619a5c5-fcd5-4922-91a5-caf1f358b5d3",
   "metadata": {},
   "outputs": [],
   "source": [
    "num = 10 "
   ]
  },
  {
   "cell_type": "code",
   "execution_count": 7,
   "id": "a882999c-33b1-4ea8-8a2d-6761f31c1a21",
   "metadata": {},
   "outputs": [
    {
     "data": {
      "text/plain": [
       "10"
      ]
     },
     "execution_count": 7,
     "metadata": {},
     "output_type": "execute_result"
    }
   ],
   "source": [
    "num"
   ]
  },
  {
   "cell_type": "code",
   "execution_count": 8,
   "id": "10f03a61-6423-44b0-8f74-a2871151c00d",
   "metadata": {},
   "outputs": [
    {
     "data": {
      "text/plain": [
       "int"
      ]
     },
     "execution_count": 8,
     "metadata": {},
     "output_type": "execute_result"
    }
   ],
   "source": [
    "type(num)"
   ]
  },
  {
   "cell_type": "code",
   "execution_count": 9,
   "id": "edb43b88-f432-4c8e-a1a3-98b283698447",
   "metadata": {},
   "outputs": [],
   "source": [
    "decimal = 6.9"
   ]
  },
  {
   "cell_type": "code",
   "execution_count": 10,
   "id": "432c957f-5ac5-46f3-ab86-3c5af0599e1a",
   "metadata": {},
   "outputs": [
    {
     "data": {
      "text/plain": [
       "6.9"
      ]
     },
     "execution_count": 10,
     "metadata": {},
     "output_type": "execute_result"
    }
   ],
   "source": [
    "decimal"
   ]
  },
  {
   "cell_type": "code",
   "execution_count": 11,
   "id": "3b701661-1844-4401-8001-b819ba156b05",
   "metadata": {},
   "outputs": [
    {
     "data": {
      "text/plain": [
       "float"
      ]
     },
     "execution_count": 11,
     "metadata": {},
     "output_type": "execute_result"
    }
   ],
   "source": [
    "type(decimal)"
   ]
  },
  {
   "cell_type": "code",
   "execution_count": 12,
   "id": "a88ebf5c-202a-4061-ac1c-5b1c9a80ba99",
   "metadata": {},
   "outputs": [],
   "source": [
    "complexNum = complex(6,9)"
   ]
  },
  {
   "cell_type": "code",
   "execution_count": 13,
   "id": "255b8b69-0b33-4830-acba-ecdc510f24f1",
   "metadata": {},
   "outputs": [
    {
     "data": {
      "text/plain": [
       "(6+9j)"
      ]
     },
     "execution_count": 13,
     "metadata": {},
     "output_type": "execute_result"
    }
   ],
   "source": [
    "complexNum"
   ]
  },
  {
   "cell_type": "code",
   "execution_count": 14,
   "id": "9ee409d0-117f-43ce-843f-b3d7dd01cb2e",
   "metadata": {},
   "outputs": [
    {
     "data": {
      "text/plain": [
       "complex"
      ]
     },
     "execution_count": 14,
     "metadata": {},
     "output_type": "execute_result"
    }
   ],
   "source": [
    "type(complexNum)"
   ]
  },
  {
   "cell_type": "code",
   "execution_count": 16,
   "id": "efc63427-7258-4621-b2be-ec8a03557433",
   "metadata": {},
   "outputs": [],
   "source": [
    "myList = [1,2,3,4,5]"
   ]
  },
  {
   "cell_type": "code",
   "execution_count": 17,
   "id": "a05449bc-d6ed-4006-9a58-07210faeb4e1",
   "metadata": {},
   "outputs": [
    {
     "data": {
      "text/plain": [
       "[1, 2, 3, 4, 5]"
      ]
     },
     "execution_count": 17,
     "metadata": {},
     "output_type": "execute_result"
    }
   ],
   "source": [
    "myList"
   ]
  },
  {
   "cell_type": "code",
   "execution_count": 18,
   "id": "b6f9aea6-534a-4280-8b2f-1fc2cf562899",
   "metadata": {},
   "outputs": [
    {
     "data": {
      "text/plain": [
       "list"
      ]
     },
     "execution_count": 18,
     "metadata": {},
     "output_type": "execute_result"
    }
   ],
   "source": [
    "type(myList)"
   ]
  },
  {
   "cell_type": "code",
   "execution_count": 19,
   "id": "ddaee6d1-ba35-4669-972e-aaece54ff7e6",
   "metadata": {},
   "outputs": [],
   "source": [
    "myTuple = ('One Piece','Attack On Tiatan','Naruto')"
   ]
  },
  {
   "cell_type": "code",
   "execution_count": 20,
   "id": "e86fd7a0-216b-4136-8d2d-3e0048201a4d",
   "metadata": {},
   "outputs": [
    {
     "data": {
      "text/plain": [
       "('One Piece', 'Attack On Tiatan', 'Naruto')"
      ]
     },
     "execution_count": 20,
     "metadata": {},
     "output_type": "execute_result"
    }
   ],
   "source": [
    "myTuple"
   ]
  },
  {
   "cell_type": "code",
   "execution_count": 21,
   "id": "d9fb50fb-50cd-43ca-b09c-6a43e251787e",
   "metadata": {},
   "outputs": [
    {
     "data": {
      "text/plain": [
       "tuple"
      ]
     },
     "execution_count": 21,
     "metadata": {},
     "output_type": "execute_result"
    }
   ],
   "source": [
    "type(myTuple)"
   ]
  },
  {
   "cell_type": "code",
   "execution_count": 22,
   "id": "adb27fb2-caa5-4ccc-ae6d-21858fcf8208",
   "metadata": {},
   "outputs": [],
   "source": [
    "myDictionary = {\"Car\":'Mustang',\"Color\":'Black',\"Year\":1969}"
   ]
  },
  {
   "cell_type": "code",
   "execution_count": 24,
   "id": "2f108a54-1996-47d8-8270-4ca0504817f0",
   "metadata": {},
   "outputs": [
    {
     "data": {
      "text/plain": [
       "{'Car': 'Mustang', 'Color': 'Black', 'Year': 1969}"
      ]
     },
     "execution_count": 24,
     "metadata": {},
     "output_type": "execute_result"
    }
   ],
   "source": [
    "myDictionary"
   ]
  },
  {
   "cell_type": "code",
   "execution_count": 25,
   "id": "f43307f4-c3cb-4d93-9be8-d264f1a2cf54",
   "metadata": {},
   "outputs": [
    {
     "data": {
      "text/plain": [
       "dict"
      ]
     },
     "execution_count": 25,
     "metadata": {},
     "output_type": "execute_result"
    }
   ],
   "source": [
    "type(myDictionary)"
   ]
  },
  {
   "cell_type": "markdown",
   "id": "c03a477b-cf2d-460e-ad4a-6a73dceec830",
   "metadata": {},
   "source": [
    "## TypeCasting"
   ]
  },
  {
   "cell_type": "code",
   "execution_count": 26,
   "id": "eda5023b-03ba-497c-860f-b9cb74c8dce2",
   "metadata": {},
   "outputs": [],
   "source": [
    "value = \"10\""
   ]
  },
  {
   "cell_type": "code",
   "execution_count": 27,
   "id": "305a7a18-7b54-43c0-b330-0efef654a725",
   "metadata": {},
   "outputs": [
    {
     "data": {
      "text/plain": [
       "'10'"
      ]
     },
     "execution_count": 27,
     "metadata": {},
     "output_type": "execute_result"
    }
   ],
   "source": [
    "value"
   ]
  },
  {
   "cell_type": "code",
   "execution_count": 28,
   "id": "ae404a5d-c20f-41f3-8530-c250ed050813",
   "metadata": {},
   "outputs": [
    {
     "data": {
      "text/plain": [
       "str"
      ]
     },
     "execution_count": 28,
     "metadata": {},
     "output_type": "execute_result"
    }
   ],
   "source": [
    "type(value)"
   ]
  },
  {
   "cell_type": "code",
   "execution_count": 29,
   "id": "e9114496-fc49-4955-8173-2330a0ca16c9",
   "metadata": {},
   "outputs": [],
   "source": [
    "number = int (value)"
   ]
  },
  {
   "cell_type": "code",
   "execution_count": 30,
   "id": "50e7882e-e528-475d-99d7-9df4dd8df541",
   "metadata": {},
   "outputs": [
    {
     "data": {
      "text/plain": [
       "10"
      ]
     },
     "execution_count": 30,
     "metadata": {},
     "output_type": "execute_result"
    }
   ],
   "source": [
    "number\n"
   ]
  },
  {
   "cell_type": "code",
   "execution_count": 31,
   "id": "03a74c92-3af6-4dc2-a270-511319f9e8ea",
   "metadata": {},
   "outputs": [
    {
     "data": {
      "text/plain": [
       "str"
      ]
     },
     "execution_count": 31,
     "metadata": {},
     "output_type": "execute_result"
    }
   ],
   "source": [
    "type(value)"
   ]
  },
  {
   "cell_type": "code",
   "execution_count": 32,
   "id": "16100664-264c-4972-a40b-cd9e3e6b9eba",
   "metadata": {},
   "outputs": [],
   "source": [
    "floatNum = float(value)"
   ]
  },
  {
   "cell_type": "code",
   "execution_count": 33,
   "id": "41b0f942-f6ce-4daf-9b95-b4edecd7a713",
   "metadata": {},
   "outputs": [
    {
     "data": {
      "text/plain": [
       "10.0"
      ]
     },
     "execution_count": 33,
     "metadata": {},
     "output_type": "execute_result"
    }
   ],
   "source": [
    "floatNum"
   ]
  },
  {
   "cell_type": "code",
   "execution_count": 34,
   "id": "c25d4114-fe5e-41a7-86d0-3a25b11843ef",
   "metadata": {},
   "outputs": [
    {
     "data": {
      "text/plain": [
       "float"
      ]
     },
     "execution_count": 34,
     "metadata": {},
     "output_type": "execute_result"
    }
   ],
   "source": [
    "type(floatNum)"
   ]
  },
  {
   "cell_type": "markdown",
   "id": "7a0be11a-6a99-43e5-897c-f535a5003bf2",
   "metadata": {},
   "source": [
    "# Operators"
   ]
  },
  {
   "cell_type": "markdown",
   "id": "fb8ad326-4efe-4c35-94ac-84ec1c375e24",
   "metadata": {},
   "source": [
    "<ol>\n",
    "    <li>Arithmetic Operator</li>\n",
    "    <li>Assignment Operator</li>\n",
    "    <li>Comparison Operator</li>\n",
    "    <li>Logical Operator</li>\n",
    "    \n",
    "</ol>"
   ]
  },
  {
   "cell_type": "markdown",
   "id": "bfa38722-51d9-4eba-9f8b-de631e05a4a8",
   "metadata": {},
   "source": [
    "# Arithmetic Operator"
   ]
  },
  {
   "cell_type": "markdown",
   "id": "cca240cb-49bf-48e2-8f5f-023db7ce546a",
   "metadata": {},
   "source": [
    "# Assignment Operator"
   ]
  },
  {
   "attachments": {
    "e51d8d1e-0add-4be1-9514-5a60ba12fe61.png": {
     "image/png": "[encoded data removed]"
    }
   },
   "cell_type": "markdown",
   "id": "b4b17fe5-a583-4ff6-9a86-fb8a130ee81c",
   "metadata": {},
   "source": [
    "![image.png](attachment:e51d8d1e-0add-4be1-9514-5a60ba12fe61.png)"
   ]
  },
  {
   "cell_type": "code",
   "execution_count": 61,
   "id": "e7486fd1-b670-40cf-964a-78186a93429d",
   "metadata": {},
   "outputs": [],
   "source": [
    "num1 = 10 \n",
    "num2 = 20\n",
    "add = num1 + num2\n",
    "sub = num1 - num2\n",
    "mul = num1 * num2\n",
    "div = num1 / num2 \n",
    "mod = num1 % num2\n",
    "exp = num1 ** num2\n",
    "floordiv = num1 // num2"
   ]
  },
  {
   "cell_type": "code",
   "execution_count": 62,
   "id": "e284bd56-0fb2-4be6-8218-af8c6c8e0a61",
   "metadata": {},
   "outputs": [
    {
     "data": {
      "text/plain": [
       "30"
      ]
     },
     "execution_count": 62,
     "metadata": {},
     "output_type": "execute_result"
    }
   ],
   "source": [
    "add\n"
   ]
  },
  {
   "cell_type": "code",
   "execution_count": 63,
   "id": "c9988599-aa60-4a51-8674-d4fd34262501",
   "metadata": {},
   "outputs": [
    {
     "data": {
      "text/plain": [
       "-10"
      ]
     },
     "execution_count": 63,
     "metadata": {},
     "output_type": "execute_result"
    }
   ],
   "source": [
    "sub"
   ]
  },
  {
   "cell_type": "code",
   "execution_count": 64,
   "id": "05509f41-d575-446d-8c55-c806595bb69b",
   "metadata": {},
   "outputs": [
    {
     "data": {
      "text/plain": [
       "200"
      ]
     },
     "execution_count": 64,
     "metadata": {},
     "output_type": "execute_result"
    }
   ],
   "source": [
    "mul"
   ]
  },
  {
   "cell_type": "code",
   "execution_count": 65,
   "id": "8ae18c9d-fba2-416d-8348-2e1ad7902d5b",
   "metadata": {},
   "outputs": [
    {
     "data": {
      "text/plain": [
       "0.5"
      ]
     },
     "execution_count": 65,
     "metadata": {},
     "output_type": "execute_result"
    }
   ],
   "source": [
    "div"
   ]
  },
  {
   "cell_type": "code",
   "execution_count": 66,
   "id": "65f7a2c3-c5e4-4954-ae7f-22db55010aee",
   "metadata": {},
   "outputs": [
    {
     "data": {
      "text/plain": [
       "100000000000000000000"
      ]
     },
     "execution_count": 66,
     "metadata": {},
     "output_type": "execute_result"
    }
   ],
   "source": [
    "exp"
   ]
  },
  {
   "cell_type": "code",
   "execution_count": 67,
   "id": "4d4721fd-ef2d-418d-a32f-7f2666797fc7",
   "metadata": {},
   "outputs": [
    {
     "data": {
      "text/plain": [
       "0"
      ]
     },
     "execution_count": 67,
     "metadata": {},
     "output_type": "execute_result"
    }
   ],
   "source": [
    "floordiv"
   ]
  },
  {
   "attachments": {
    "505089d3-c7d3-45af-ba61-2ea60794ffa9.png": {
     "image/png": "[encoded data removed]"
    }
   },
   "cell_type": "markdown",
   "id": "4bd6bf13-5811-47d5-95dc-7058342d05de",
   "metadata": {},
   "source": [
    "![image.png](attachment:505089d3-c7d3-45af-ba61-2ea60794ffa9.png)"
   ]
  },
  {
   "cell_type": "code",
   "execution_count": 36,
   "id": "a0ae7ba0-ce75-4057-8740-0b6fceed654c",
   "metadata": {},
   "outputs": [],
   "source": [
    "a = 10"
   ]
  },
  {
   "cell_type": "code",
   "execution_count": 37,
   "id": "0f73136b-0b64-40af-9152-305a66a1b709",
   "metadata": {},
   "outputs": [],
   "source": [
    "a = a + 10"
   ]
  },
  {
   "cell_type": "code",
   "execution_count": 38,
   "id": "c1f5d3b4-c08d-40ac-ad8b-933852045de0",
   "metadata": {},
   "outputs": [
    {
     "data": {
      "text/plain": [
       "20"
      ]
     },
     "execution_count": 38,
     "metadata": {},
     "output_type": "execute_result"
    }
   ],
   "source": [
    "a"
   ]
  },
  {
   "cell_type": "code",
   "execution_count": 46,
   "id": "08799ed4-8820-46fb-8554-d01ee438c406",
   "metadata": {},
   "outputs": [
    {
     "data": {
      "text/plain": [
       "30"
      ]
     },
     "execution_count": 46,
     "metadata": {},
     "output_type": "execute_result"
    }
   ],
   "source": [
    "a += 10\n",
    "a"
   ]
  },
  {
   "cell_type": "code",
   "execution_count": 47,
   "id": "3aabc46a-6667-4950-8cef-aed47e96ce9f",
   "metadata": {},
   "outputs": [
    {
     "data": {
      "text/plain": [
       "20"
      ]
     },
     "execution_count": 47,
     "metadata": {},
     "output_type": "execute_result"
    }
   ],
   "source": [
    "a -=10\n",
    "a"
   ]
  },
  {
   "cell_type": "code",
   "execution_count": 49,
   "id": "16d83ece-7add-4013-a223-2b11a3834617",
   "metadata": {},
   "outputs": [
    {
     "data": {
      "text/plain": [
       "2000"
      ]
     },
     "execution_count": 49,
     "metadata": {},
     "output_type": "execute_result"
    }
   ],
   "source": [
    "a *= 10\n",
    "a"
   ]
  },
  {
   "cell_type": "code",
   "execution_count": 50,
   "id": "a85e77d2-05d1-48d7-978c-f13321a18967",
   "metadata": {},
   "outputs": [
    {
     "data": {
      "text/plain": [
       "200.0"
      ]
     },
     "execution_count": 50,
     "metadata": {},
     "output_type": "execute_result"
    }
   ],
   "source": [
    "a /= 10 \n",
    "a"
   ]
  },
  {
   "cell_type": "code",
   "execution_count": 52,
   "id": "c74e4022-d475-4f63-bed1-98d486d136a1",
   "metadata": {},
   "outputs": [
    {
     "data": {
      "text/plain": [
       "0.0"
      ]
     },
     "execution_count": 52,
     "metadata": {},
     "output_type": "execute_result"
    }
   ],
   "source": [
    "a %=10\n",
    "a"
   ]
  },
  {
   "cell_type": "code",
   "execution_count": 55,
   "id": "529d299d-1448-4d0f-938e-073bc5917ecc",
   "metadata": {},
   "outputs": [],
   "source": [
    "a = 10"
   ]
  },
  {
   "cell_type": "code",
   "execution_count": 56,
   "id": "d9bd5c10-6f56-4496-a0d2-c606950cdace",
   "metadata": {},
   "outputs": [
    {
     "data": {
      "text/plain": [
       "10000000000"
      ]
     },
     "execution_count": 56,
     "metadata": {},
     "output_type": "execute_result"
    }
   ],
   "source": [
    "a **= 10\n",
    "a"
   ]
  },
  {
   "cell_type": "code",
   "execution_count": 68,
   "id": "c89a0ca9-ad44-4ee4-b047-157833c6c2a0",
   "metadata": {},
   "outputs": [
    {
     "data": {
      "text/plain": [
       "100000000"
      ]
     },
     "execution_count": 68,
     "metadata": {},
     "output_type": "execute_result"
    }
   ],
   "source": [
    "a //= 10\n",
    "a"
   ]
  },
  {
   "cell_type": "markdown",
   "id": "a4ccea58-e8e5-4b11-ab7c-32a2e5a7e95d",
   "metadata": {},
   "source": [
    "# Comparison Operator"
   ]
  },
  {
   "attachments": {
    "8cedef22-2b0c-4708-8bc2-9cb8b0c362b5.png": {
     "image/png": "[encoded data removed]"
    }
   },
   "cell_type": "markdown",
   "id": "93a91d5c-cc56-49af-a1a0-219f4291e9ce",
   "metadata": {},
   "source": [
    "![image.png](attachment:8cedef22-2b0c-4708-8bc2-9cb8b0c362b5.png)"
   ]
  },
  {
   "cell_type": "code",
   "execution_count": 70,
   "id": "f202f109-b116-41bf-9489-ed1e8f3b2e2d",
   "metadata": {},
   "outputs": [],
   "source": [
    "num1 = 10\n",
    "num2 = 20\n",
    "num3 = 30"
   ]
  },
  {
   "cell_type": "code",
   "execution_count": 75,
   "id": "80e27cee-0b49-4585-924f-33c93b150f69",
   "metadata": {},
   "outputs": [],
   "source": [
    "equal = num1 == num2\n",
    "notEqual = num1 != num2 \n",
    "greaterThan = num1 > num3\n",
    "lessThan = num1 < num3\n",
    "greaterAnEqual = num1 >= num2\n",
    "lessAnEqual = num1 <= num3"
   ]
  },
  {
   "cell_type": "code",
   "execution_count": 76,
   "id": "7937412f-e9bd-46d1-af19-af67f72f32ad",
   "metadata": {},
   "outputs": [
    {
     "data": {
      "text/plain": [
       "False"
      ]
     },
     "execution_count": 76,
     "metadata": {},
     "output_type": "execute_result"
    }
   ],
   "source": [
    "equal"
   ]
  },
  {
   "cell_type": "code",
   "execution_count": 74,
   "id": "9312e706-87e4-49a6-96d5-846f88a6955c",
   "metadata": {},
   "outputs": [
    {
     "data": {
      "text/plain": [
       "True"
      ]
     },
     "execution_count": 74,
     "metadata": {},
     "output_type": "execute_result"
    }
   ],
   "source": [
    "notEqual"
   ]
  },
  {
   "cell_type": "code",
   "execution_count": 77,
   "id": "4fbdfb70-a97d-4407-b172-d4772f53d077",
   "metadata": {},
   "outputs": [
    {
     "data": {
      "text/plain": [
       "False"
      ]
     },
     "execution_count": 77,
     "metadata": {},
     "output_type": "execute_result"
    }
   ],
   "source": [
    "greaterThan "
   ]
  },
  {
   "cell_type": "code",
   "execution_count": 79,
   "id": "8c645302-b6b1-4059-841c-10362776a14f",
   "metadata": {},
   "outputs": [
    {
     "data": {
      "text/plain": [
       "True"
      ]
     },
     "execution_count": 79,
     "metadata": {},
     "output_type": "execute_result"
    }
   ],
   "source": [
    "lessThan"
   ]
  },
  {
   "cell_type": "code",
   "execution_count": 80,
   "id": "44c93b3b-57f2-4b61-87e5-847e7c3fbeaf",
   "metadata": {},
   "outputs": [
    {
     "data": {
      "text/plain": [
       "False"
      ]
     },
     "execution_count": 80,
     "metadata": {},
     "output_type": "execute_result"
    }
   ],
   "source": [
    "greaterAnEqual"
   ]
  },
  {
   "cell_type": "code",
   "execution_count": 81,
   "id": "369227cb-31f5-4e16-880c-ae9a8feb2b80",
   "metadata": {},
   "outputs": [
    {
     "data": {
      "text/plain": [
       "True"
      ]
     },
     "execution_count": 81,
     "metadata": {},
     "output_type": "execute_result"
    }
   ],
   "source": [
    "lessAnEqual"
   ]
  },
  {
   "cell_type": "markdown",
   "id": "a0f4e97b-d022-4ae8-8458-a40138aaf3f6",
   "metadata": {},
   "source": [
    "# Logical Operator "
   ]
  },
  {
   "attachments": {
    "1a6cae40-05e2-4027-ab8d-242ae3731468.png": {
     "image/png": "[encoded data removed]"
    }
   },
   "cell_type": "markdown",
   "id": "a2f7e72a-13d0-40af-af46-484279b8a899",
   "metadata": {},
   "source": [
    "![image.png](attachment:1a6cae40-05e2-4027-ab8d-242ae3731468.png)"
   ]
  },
  {
   "cell_type": "code",
   "execution_count": 89,
   "id": "1b9afb73-0c82-4475-b2e7-f4652c16d448",
   "metadata": {},
   "outputs": [],
   "source": [
    "ans1 = (5>10) or (10>5)\n",
    "ans2 = (2<3) and (3>2)\n",
    "ans3 = not(5>10)"
   ]
  },
  {
   "cell_type": "code",
   "execution_count": 84,
   "id": "0e633236-7e3c-4ce9-9498-622bf718d351",
   "metadata": {},
   "outputs": [
    {
     "data": {
      "text/plain": [
       "True"
      ]
     },
     "execution_count": 84,
     "metadata": {},
     "output_type": "execute_result"
    }
   ],
   "source": [
    "ans1"
   ]
  },
  {
   "cell_type": "code",
   "execution_count": 85,
   "id": "6d0319a5-a040-4522-8141-f221d2945e0e",
   "metadata": {},
   "outputs": [
    {
     "data": {
      "text/plain": [
       "True"
      ]
     },
     "execution_count": 85,
     "metadata": {},
     "output_type": "execute_result"
    }
   ],
   "source": [
    "ans2"
   ]
  },
  {
   "cell_type": "code",
   "execution_count": 90,
   "id": "ebafc6fb-42c3-4e77-9f8c-d446e1ebede9",
   "metadata": {},
   "outputs": [
    {
     "data": {
      "text/plain": [
       "True"
      ]
     },
     "execution_count": 90,
     "metadata": {},
     "output_type": "execute_result"
    }
   ],
   "source": [
    "ans3"
   ]
  },
  {
   "cell_type": "markdown",
   "id": "9422f6b4-695e-4a73-b11f-4fd9313a7a56",
   "metadata": {},
   "source": [
    "# User Input "
   ]
  },
  {
   "cell_type": "code",
   "execution_count": 91,
   "id": "6924af31-6ef7-4782-b71f-fc77035f623e",
   "metadata": {},
   "outputs": [
    {
     "name": "stdin",
     "output_type": "stream",
     "text": [
      "Hiee how are you fine\n"
     ]
    }
   ],
   "source": [
    "response = input(\"Hiee how are you\")"
   ]
  },
  {
   "cell_type": "code",
   "execution_count": 92,
   "id": "ec3390eb-3f3b-459a-8df4-b96619528a13",
   "metadata": {},
   "outputs": [
    {
     "data": {
      "text/plain": [
       "'fine'"
      ]
     },
     "execution_count": 92,
     "metadata": {},
     "output_type": "execute_result"
    }
   ],
   "source": [
    "response "
   ]
  },
  {
   "cell_type": "code",
   "execution_count": 93,
   "id": "35ab97ec-e125-454d-be87-c14eb06c5df1",
   "metadata": {},
   "outputs": [
    {
     "data": {
      "text/plain": [
       "str"
      ]
     },
     "execution_count": 93,
     "metadata": {},
     "output_type": "execute_result"
    }
   ],
   "source": [
    "type(response)"
   ]
  },
  {
   "cell_type": "markdown",
   "id": "4c045659-e3a9-4607-95c4-b404521d89a7",
   "metadata": {},
   "source": [
    "## A small program to add a two user define numbers"
   ]
  },
  {
   "cell_type": "code",
   "execution_count": 99,
   "id": "366fa786-a528-4a2b-b0d6-03aa0b4db89f",
   "metadata": {},
   "outputs": [
    {
     "name": "stdin",
     "output_type": "stream",
     "text": [
      "Enter any number: 5\n",
      "Enter a second number for addition: 5\n"
     ]
    }
   ],
   "source": [
    "num1 = input(\"Enter any number:\")\n",
    "num2 = input(\"Enter a second number for addition:\")\n",
    "add = int(num1) + int(num2) "
   ]
  },
  {
   "cell_type": "code",
   "execution_count": 100,
   "id": "fd77d6ea-d1fb-456a-8a54-dcdfa608b619",
   "metadata": {},
   "outputs": [
    {
     "data": {
      "text/plain": [
       "10"
      ]
     },
     "execution_count": 100,
     "metadata": {},
     "output_type": "execute_result"
    }
   ],
   "source": [
    "add"
   ]
  },
  {
   "cell_type": "markdown",
   "id": "ee7edbf4-e954-4b2e-8772-f418cc8546a7",
   "metadata": {},
   "source": [
    "# Conditions "
   ]
  },
  {
   "attachments": {
    "e50e2104-a9d4-4278-b383-cda80a7d25b0.png": {
     "image/png": "[encoded data removed]"
    }
   },
   "cell_type": "markdown",
   "id": "6f47dccc-38d1-4081-a21f-dc6e393842d3",
   "metadata": {},
   "source": [
    "![image.png](attachment:e50e2104-a9d4-4278-b383-cda80a7d25b0.png)"
   ]
  },
  {
   "cell_type": "markdown",
   "id": "d4f82210-7b26-4aaa-8c3c-ba9616d4763f",
   "metadata": {},
   "source": [
    "### Checks the user defined number whether it is odd or even "
   ]
  },
  {
   "cell_type": "code",
   "execution_count": 107,
   "id": "c37f8f55-0dde-4345-b215-4c0af34246d2",
   "metadata": {},
   "outputs": [
    {
     "name": "stdin",
     "output_type": "stream",
     "text": [
      "Enter any number: 5\n"
     ]
    },
    {
     "name": "stdout",
     "output_type": "stream",
     "text": [
      "The number is odd\n"
     ]
    }
   ],
   "source": [
    "num = int( input(\"Enter any number:\"))\n",
    "if num % 2 == 0 :\n",
    "    if num == 0 :\n",
    "        print(\"The number is zero\")\n",
    "    else :\n",
    "     print(\"The number is even\")\n",
    "else :\n",
    "     print(\"The number is odd\")"
   ]
  },
  {
   "cell_type": "markdown",
   "id": "7f844f70-f0eb-48d9-8326-61e83d75baa2",
   "metadata": {},
   "source": [
    "# Loops "
   ]
  },
  {
   "cell_type": "markdown",
   "id": "6e12d3cd-8a4e-4a4d-b0f6-716b9132db67",
   "metadata": {},
   "source": [
    "### While Loop "
   ]
  },
  {
   "attachments": {
    "af8d9685-73f9-41b3-bb01-d498244a149f.png": {
     "image/png": "[encoded data removed]"
    }
   },
   "cell_type": "markdown",
   "id": "440333d8-dafa-490c-adf8-5fd4957644d8",
   "metadata": {},
   "source": [
    "![image.png](attachment:af8d9685-73f9-41b3-bb01-d498244a149f.png)"
   ]
  },
  {
   "cell_type": "code",
   "execution_count": 110,
   "id": "a7400acb-a99f-4796-9ad4-4f0a279cec5f",
   "metadata": {},
   "outputs": [
    {
     "name": "stdout",
     "output_type": "stream",
     "text": [
      "1\n",
      "2\n",
      "3\n",
      "4\n",
      "5\n",
      "6\n",
      "7\n",
      "8\n",
      "9\n",
      "10\n"
     ]
    }
   ],
   "source": [
    "a = 0\n",
    "while a < 10 :\n",
    "    a += 1\n",
    "    print(a)"
   ]
  },
  {
   "cell_type": "markdown",
   "id": "72b68ee4-e0e7-4b7b-9a88-1db92a1e531f",
   "metadata": {},
   "source": [
    "### For Loop "
   ]
  },
  {
   "attachments": {
    "563d3697-8c9c-46aa-b07c-cf475d284e72.png": {
     "image/png": "[encoded data removed]"
    }
   },
   "cell_type": "markdown",
   "id": "87bb5569-d6ff-4e7e-883e-dc7e5ba8c73b",
   "metadata": {},
   "source": [
    "![image.png](attachment:563d3697-8c9c-46aa-b07c-cf475d284e72.png)"
   ]
  },
  {
   "cell_type": "code",
   "execution_count": 111,
   "id": "948ac54d-b0c3-4113-9833-5f0a28cacd4c",
   "metadata": {},
   "outputs": [
    {
     "name": "stdout",
     "output_type": "stream",
     "text": [
      "1\n",
      "2\n",
      "3\n",
      "4\n",
      "5\n"
     ]
    }
   ],
   "source": [
    "numbers = [1,2,3,4,5]\n",
    "for number in numbers :\n",
    "    print(number)"
   ]
  },
  {
   "cell_type": "markdown",
   "id": "219ad67d-3f66-4088-b59d-fb784da5ad3e",
   "metadata": {},
   "source": [
    "# Range function "
   ]
  },
  {
   "cell_type": "code",
   "execution_count": 4,
   "id": "4f4eea96-4324-4f8b-b296-cf99ad06ad78",
   "metadata": {},
   "outputs": [
    {
     "name": "stdout",
     "output_type": "stream",
     "text": [
      "0\n",
      "1\n",
      "2\n",
      "3\n",
      "4\n"
     ]
    }
   ],
   "source": [
    "for i in range (5) :\n",
    "    print (i)"
   ]
  },
  {
   "cell_type": "code",
   "execution_count": 5,
   "id": "1074d708-ef3c-4553-bbf2-5610ce763842",
   "metadata": {},
   "outputs": [
    {
     "name": "stdout",
     "output_type": "stream",
     "text": [
      "10\n",
      "11\n",
      "12\n",
      "13\n",
      "14\n"
     ]
    }
   ],
   "source": [
    "for i in range (10,15) :\n",
    "    print (i)"
   ]
  },
  {
   "cell_type": "code",
   "execution_count": 10,
   "id": "a6c6009b-2c76-4c6e-b950-55d830196778",
   "metadata": {},
   "outputs": [
    {
     "name": "stdout",
     "output_type": "stream",
     "text": [
      "5\n"
     ]
    }
   ],
   "source": [
    "for i in range (5,10,15) :\n",
    "    print (i)"
   ]
  },
  {
   "cell_type": "markdown",
   "id": "48377254-a353-4bdc-b64d-4e782ed38f18",
   "metadata": {},
   "source": [
    "#  Break statement"
   ]
  },
  {
   "cell_type": "code",
   "execution_count": 19,
   "id": "5da1b469-f951-43f0-b307-9a35c2117c84",
   "metadata": {},
   "outputs": [
    {
     "name": "stdout",
     "output_type": "stream",
     "text": [
      "1\n",
      "2\n",
      "3\n",
      "4\n"
     ]
    }
   ],
   "source": [
    "num = 0\n",
    "while num < 10 :\n",
    "    num += 1 \n",
    "    if num == 5 :\n",
    "        break\n",
    "    print (num)"
   ]
  },
  {
   "cell_type": "markdown",
   "id": "85a7cabf-5751-491e-892d-72b67de0c5df",
   "metadata": {},
   "source": [
    "# Continue statement "
   ]
  },
  {
   "cell_type": "code",
   "execution_count": 20,
   "id": "f519dfcb-3c91-43e9-8d89-1d9aa12e5a28",
   "metadata": {},
   "outputs": [
    {
     "name": "stdout",
     "output_type": "stream",
     "text": [
      "1\n",
      "2\n",
      "3\n",
      "4\n",
      "6\n",
      "7\n",
      "8\n",
      "9\n",
      "10\n"
     ]
    }
   ],
   "source": [
    "num = 0 \n",
    "while num < 10 :\n",
    "    num += 1\n",
    "    if num == 5 :\n",
    "        continue\n",
    "    print ( num )"
   ]
  },
  {
   "cell_type": "markdown",
   "id": "082cd1a5-3046-4a16-aeec-c70150acec5e",
   "metadata": {},
   "source": [
    "# Pass statement "
   ]
  },
  {
   "cell_type": "code",
   "execution_count": 21,
   "id": "b5edb1f8-2fc0-4109-ad15-ec8b1fe5dfe3",
   "metadata": {},
   "outputs": [],
   "source": [
    "if num == 10 :\n",
    "    pass\n",
    "else :\n",
    "    pass\n",
    "while num < 10 :\n",
    "    pass"
   ]
  },
  {
   "cell_type": "markdown",
   "id": "ef5456b7-8792-4d80-bb23-e5f57c5275cc",
   "metadata": {},
   "source": [
    "# Lists"
   ]
  },
  {
   "cell_type": "code",
   "execution_count": 23,
   "id": "137eefda-6d67-46da-82de-655d82740a2c",
   "metadata": {},
   "outputs": [],
   "source": [
    "numbers = [1,2,3,4,5]\n",
    "hobbies = ['chess','sketch','game']\n",
    "mixed = ['chess',946,3.2, True]"
   ]
  },
  {
   "cell_type": "code",
   "execution_count": 24,
   "id": "fcd95f6b-02b8-4d07-aadc-d8f11b74f216",
   "metadata": {},
   "outputs": [
    {
     "data": {
      "text/plain": [
       "[1, 2, 3, 4, 5]"
      ]
     },
     "execution_count": 24,
     "metadata": {},
     "output_type": "execute_result"
    }
   ],
   "source": [
    "numbers"
   ]
  },
  {
   "cell_type": "code",
   "execution_count": 25,
   "id": "e8882831-8e06-4ce4-83d2-b99c37e5d2cd",
   "metadata": {},
   "outputs": [
    {
     "data": {
      "text/plain": [
       "1"
      ]
     },
     "execution_count": 25,
     "metadata": {},
     "output_type": "execute_result"
    }
   ],
   "source": [
    "numbers[0]"
   ]
  },
  {
   "cell_type": "code",
   "execution_count": 28,
   "id": "a7777389-8b3b-4f38-89df-792828dc6ea5",
   "metadata": {},
   "outputs": [
    {
     "data": {
      "text/plain": [
       "'sketch'"
      ]
     },
     "execution_count": 28,
     "metadata": {},
     "output_type": "execute_result"
    }
   ],
   "source": [
    "hobbies[1]"
   ]
  },
  {
   "cell_type": "code",
   "execution_count": 29,
   "id": "e1e4c32f-9e07-4808-a0db-4a2076d9ca03",
   "metadata": {},
   "outputs": [
    {
     "data": {
      "text/plain": [
       "3.2"
      ]
     },
     "execution_count": 29,
     "metadata": {},
     "output_type": "execute_result"
    }
   ],
   "source": [
    "mixed[2]"
   ]
  },
  {
   "cell_type": "code",
   "execution_count": 30,
   "id": "3bda677b-a47a-4e97-8f06-6d6aba235c4f",
   "metadata": {},
   "outputs": [
    {
     "data": {
      "text/plain": [
       "5"
      ]
     },
     "execution_count": 30,
     "metadata": {},
     "output_type": "execute_result"
    }
   ],
   "source": [
    "len(numbers)"
   ]
  },
  {
   "cell_type": "code",
   "execution_count": 32,
   "id": "180797db-8aa0-424e-a584-d78c05cf305f",
   "metadata": {},
   "outputs": [
    {
     "data": {
      "text/plain": [
       "3"
      ]
     },
     "execution_count": 32,
     "metadata": {},
     "output_type": "execute_result"
    }
   ],
   "source": [
    "len(hobbies)"
   ]
  },
  {
   "cell_type": "code",
   "execution_count": 33,
   "id": "0e32a81c-2599-47af-b917-778fb82bc701",
   "metadata": {},
   "outputs": [
    {
     "data": {
      "text/plain": [
       "4"
      ]
     },
     "execution_count": 33,
     "metadata": {},
     "output_type": "execute_result"
    }
   ],
   "source": [
    "len(mixed)"
   ]
  },
  {
   "cell_type": "code",
   "execution_count": 35,
   "id": "299dff12-e6cd-45b6-b0f5-7fbeebf2fe34",
   "metadata": {},
   "outputs": [
    {
     "data": {
      "text/plain": [
       "[1, 2]"
      ]
     },
     "execution_count": 35,
     "metadata": {},
     "output_type": "execute_result"
    }
   ],
   "source": [
    "numbers[0:2]"
   ]
  },
  {
   "cell_type": "code",
   "execution_count": 36,
   "id": "301a6ac6-8cc1-4e41-aea6-09a220be5b40",
   "metadata": {},
   "outputs": [
    {
     "data": {
      "text/plain": [
       "['chess', 'sketch', 'game']"
      ]
     },
     "execution_count": 36,
     "metadata": {},
     "output_type": "execute_result"
    }
   ],
   "source": [
    "hobbies[:3]"
   ]
  },
  {
   "cell_type": "code",
   "execution_count": 37,
   "id": "0fec169d-85e4-42c4-8a48-ff476805608a",
   "metadata": {},
   "outputs": [
    {
     "data": {
      "text/plain": [
       "[True, 3.2, 946, 'chess']"
      ]
     },
     "execution_count": 37,
     "metadata": {},
     "output_type": "execute_result"
    }
   ],
   "source": [
    "mixed[::-1]"
   ]
  },
  {
   "cell_type": "code",
   "execution_count": 39,
   "id": "1a91ecde-e0b3-42d6-a09a-a9456d422f89",
   "metadata": {},
   "outputs": [],
   "source": [
    "numbers[4] = 6"
   ]
  },
  {
   "cell_type": "code",
   "execution_count": 40,
   "id": "de3a818c-803a-437b-8ade-13e5af090621",
   "metadata": {},
   "outputs": [
    {
     "data": {
      "text/plain": [
       "[1, 2, 3, 4, 6]"
      ]
     },
     "execution_count": 40,
     "metadata": {},
     "output_type": "execute_result"
    }
   ],
   "source": [
    "numbers"
   ]
  },
  {
   "cell_type": "markdown",
   "id": "3f52dae8-fda0-433b-b1f8-aa70f49dcdca",
   "metadata": {},
   "source": [
    "# List operations"
   ]
  },
  {
   "attachments": {
    "f95dac7c-dda3-40c3-9925-af7f81c310c0.png": {
     "image/png": "[encoded data removed]"
    }
   },
   "cell_type": "markdown",
   "id": "fb577c7a-77b3-42ce-a0c7-cbfde5521822",
   "metadata": {},
   "source": [
    "![image.png](attachment:f95dac7c-dda3-40c3-9925-af7f81c310c0.png)"
   ]
  },
  {
   "cell_type": "code",
   "execution_count": 41,
   "id": "288d3173-5dc3-4e80-9b91-a48d1e3c04ed",
   "metadata": {},
   "outputs": [],
   "source": [
    "list1 = [1,2,3]\n",
    "list2 = [4,5,6]"
   ]
  },
  {
   "cell_type": "code",
   "execution_count": 42,
   "id": "a1ce2f9d-0c78-4956-86ca-f059815e50e2",
   "metadata": {},
   "outputs": [
    {
     "data": {
      "text/plain": [
       "[1, 2, 3, 4, 5, 6]"
      ]
     },
     "execution_count": 42,
     "metadata": {},
     "output_type": "execute_result"
    }
   ],
   "source": [
    "list1 + list2"
   ]
  },
  {
   "cell_type": "code",
   "execution_count": 43,
   "id": "54ac7a10-e3ef-4c0b-a862-e1023f03a41a",
   "metadata": {},
   "outputs": [
    {
     "data": {
      "text/plain": [
       "[1, 2, 3, 1, 2, 3, 1, 2, 3]"
      ]
     },
     "execution_count": 43,
     "metadata": {},
     "output_type": "execute_result"
    }
   ],
   "source": [
    "list1 * 3"
   ]
  },
  {
   "cell_type": "code",
   "execution_count": 44,
   "id": "d05b0632-10a9-4d07-864a-73c4b74d6ba2",
   "metadata": {},
   "outputs": [
    {
     "data": {
      "text/plain": [
       "3"
      ]
     },
     "execution_count": 44,
     "metadata": {},
     "output_type": "execute_result"
    }
   ],
   "source": [
    "len(list1)"
   ]
  },
  {
   "cell_type": "code",
   "execution_count": 45,
   "id": "86868a9e-6aa0-478f-b519-2342caaedd90",
   "metadata": {},
   "outputs": [
    {
     "data": {
      "text/plain": [
       "3"
      ]
     },
     "execution_count": 45,
     "metadata": {},
     "output_type": "execute_result"
    }
   ],
   "source": [
    "max(list1)"
   ]
  },
  {
   "cell_type": "code",
   "execution_count": 46,
   "id": "df6c4559-9a86-4c9e-9e0c-f348e0f7fc43",
   "metadata": {},
   "outputs": [
    {
     "data": {
      "text/plain": [
       "4"
      ]
     },
     "execution_count": 46,
     "metadata": {},
     "output_type": "execute_result"
    }
   ],
   "source": [
    "min(list2)"
   ]
  },
  {
   "cell_type": "code",
   "execution_count": 47,
   "id": "e9a87ba3-6f5b-4066-acc6-f8a2f09c3360",
   "metadata": {},
   "outputs": [],
   "source": [
    "list1.append(5)"
   ]
  },
  {
   "cell_type": "code",
   "execution_count": 48,
   "id": "e6c55aa4-6180-4253-8307-4219b95ca401",
   "metadata": {},
   "outputs": [
    {
     "data": {
      "text/plain": [
       "[1, 2, 3, 5]"
      ]
     },
     "execution_count": 48,
     "metadata": {},
     "output_type": "execute_result"
    }
   ],
   "source": [
    "list1"
   ]
  },
  {
   "cell_type": "code",
   "execution_count": 49,
   "id": "b158a698-fed9-4c2e-90b5-1e6921392223",
   "metadata": {},
   "outputs": [
    {
     "data": {
      "text/plain": [
       "1"
      ]
     },
     "execution_count": 49,
     "metadata": {},
     "output_type": "execute_result"
    }
   ],
   "source": [
    "list2.count(5)"
   ]
  },
  {
   "cell_type": "code",
   "execution_count": 50,
   "id": "c7b3ad77-7140-45ed-8ea0-17d8fa31c447",
   "metadata": {},
   "outputs": [
    {
     "data": {
      "text/plain": [
       "0"
      ]
     },
     "execution_count": 50,
     "metadata": {},
     "output_type": "execute_result"
    }
   ],
   "source": [
    "list1.index(1)"
   ]
  },
  {
   "cell_type": "code",
   "execution_count": 51,
   "id": "6496dd59-15d0-4eff-ad3f-2504e2381c4f",
   "metadata": {},
   "outputs": [
    {
     "data": {
      "text/plain": [
       "5"
      ]
     },
     "execution_count": 51,
     "metadata": {},
     "output_type": "execute_result"
    }
   ],
   "source": [
    "list1.pop()"
   ]
  },
  {
   "cell_type": "code",
   "execution_count": 52,
   "id": "af4164fc-8905-4fa8-a980-e2de505eeac5",
   "metadata": {},
   "outputs": [],
   "source": [
    "list2.reverse()"
   ]
  },
  {
   "cell_type": "code",
   "execution_count": 53,
   "id": "3f3244ec-3d9c-4912-b43d-6f7e67b746cd",
   "metadata": {},
   "outputs": [],
   "source": [
    "list1.sort()"
   ]
  },
  {
   "cell_type": "code",
   "execution_count": 54,
   "id": "5d93c382-6c29-4b1b-8239-4647117d16e9",
   "metadata": {},
   "outputs": [],
   "source": [
    "list2.sort(reverse = True)"
   ]
  },
  {
   "cell_type": "code",
   "execution_count": 55,
   "id": "24626282-6b8f-44cf-9f45-c983d9d45642",
   "metadata": {},
   "outputs": [
    {
     "data": {
      "text/plain": [
       "[6, 5, 4]"
      ]
     },
     "execution_count": 55,
     "metadata": {},
     "output_type": "execute_result"
    }
   ],
   "source": [
    "list2"
   ]
  },
  {
   "cell_type": "markdown",
   "id": "3e447783-2e31-4fa8-98a6-6986096cc9a5",
   "metadata": {},
   "source": [
    "# Modifying items in list"
   ]
  },
  {
   "cell_type": "code",
   "execution_count": 56,
   "id": "812c4b87-6fbd-417a-b624-10565d93251a",
   "metadata": {},
   "outputs": [],
   "source": [
    "phones = ['oppo','vivo','samsung']"
   ]
  },
  {
   "cell_type": "code",
   "execution_count": 57,
   "id": "55208438-eb54-4469-82cf-a6111fcd7d41",
   "metadata": {},
   "outputs": [],
   "source": [
    "phones.insert(2,'apple')"
   ]
  },
  {
   "cell_type": "code",
   "execution_count": 58,
   "id": "972a0b1e-9609-4782-b50f-e70e8f5c8254",
   "metadata": {},
   "outputs": [],
   "source": [
    "phones.append('nokia')"
   ]
  },
  {
   "cell_type": "code",
   "execution_count": 59,
   "id": "ccdaa8ac-910e-47ea-864f-059f192ecfbf",
   "metadata": {},
   "outputs": [
    {
     "data": {
      "text/plain": [
       "['oppo', 'vivo', 'apple', 'samsung', 'nokia']"
      ]
     },
     "execution_count": 59,
     "metadata": {},
     "output_type": "execute_result"
    }
   ],
   "source": [
    "phones"
   ]
  },
  {
   "cell_type": "code",
   "execution_count": 60,
   "id": "d0dcb369-283b-4e3f-89d8-f57427efd973",
   "metadata": {},
   "outputs": [],
   "source": [
    "phones2 = ['realme','micromax','motorola']"
   ]
  },
  {
   "cell_type": "code",
   "execution_count": 61,
   "id": "6935ecab-d6a3-4459-8fa9-a2473d02cc8c",
   "metadata": {},
   "outputs": [],
   "source": [
    "phones.extend(phones2)"
   ]
  },
  {
   "cell_type": "code",
   "execution_count": 62,
   "id": "2c924936-e669-4754-a3cb-6ec7569d2e4f",
   "metadata": {},
   "outputs": [
    {
     "data": {
      "text/plain": [
       "['oppo', 'vivo', 'apple', 'samsung', 'nokia', 'realme', 'micromax', 'motorola']"
      ]
     },
     "execution_count": 62,
     "metadata": {},
     "output_type": "execute_result"
    }
   ],
   "source": [
    "phones"
   ]
  },
  {
   "cell_type": "code",
   "execution_count": 63,
   "id": "93b09d8c-cf13-4325-872c-ec6d865cfa0f",
   "metadata": {},
   "outputs": [],
   "source": [
    "phones.remove('micromax')"
   ]
  },
  {
   "cell_type": "code",
   "execution_count": 64,
   "id": "50c2522b-f4cf-4edf-a2f7-843b034449a4",
   "metadata": {},
   "outputs": [
    {
     "data": {
      "text/plain": [
       "['oppo', 'vivo', 'apple', 'samsung', 'nokia', 'realme', 'motorola']"
      ]
     },
     "execution_count": 64,
     "metadata": {},
     "output_type": "execute_result"
    }
   ],
   "source": [
    "phones"
   ]
  },
  {
   "cell_type": "code",
   "execution_count": 65,
   "id": "aadc58e0-56ec-4230-96e1-069860586d2d",
   "metadata": {},
   "outputs": [],
   "source": [
    "del phones2"
   ]
  },
  {
   "cell_type": "code",
   "execution_count": 66,
   "id": "3bd8f2ed-e116-404b-8cb2-1c75f28643ed",
   "metadata": {},
   "outputs": [
    {
     "ename": "NameError",
     "evalue": "name 'phones2' is not defined",
     "output_type": "error",
     "traceback": [
      "\u001b[1;31m---------------------------------------------------------------------------\u001b[0m",
      "\u001b[1;31mNameError\u001b[0m                                 Traceback (most recent call last)",
      "Cell \u001b[1;32mIn[66], line 1\u001b[0m\n\u001b[1;32m----> 1\u001b[0m phones2\n",
      "\u001b[1;31mNameError\u001b[0m: name 'phones2' is not defined"
     ]
    }
   ],
   "source": [
    "phones2"
   ]
  },
  {
   "cell_type": "code",
   "execution_count": 67,
   "id": "524787aa-fe66-4b78-9bc5-b82d718f594d",
   "metadata": {},
   "outputs": [
    {
     "data": {
      "text/plain": [
       "['oppo', 'vivo', 'apple', 'samsung', 'nokia', 'realme', 'motorola']"
      ]
     },
     "execution_count": 67,
     "metadata": {},
     "output_type": "execute_result"
    }
   ],
   "source": [
    "phones"
   ]
  },
  {
   "cell_type": "markdown",
   "id": "f9f86556-9e0c-4beb-a38f-443f48e6c1ba",
   "metadata": {},
   "source": [
    "# Tuples"
   ]
  },
  {
   "cell_type": "code",
   "execution_count": 1,
   "id": "35c52449-e4bc-43ee-b344-f614585e7d4d",
   "metadata": {},
   "outputs": [],
   "source": [
    "tpl =(1,2,3)"
   ]
  },
  {
   "cell_type": "code",
   "execution_count": 2,
   "id": "e0c7727c-af9c-47ec-9257-c0b1ca5201df",
   "metadata": {},
   "outputs": [
    {
     "data": {
      "text/plain": [
       "tuple"
      ]
     },
     "execution_count": 2,
     "metadata": {},
     "output_type": "execute_result"
    }
   ],
   "source": [
    "type(tpl)"
   ]
  },
  {
   "cell_type": "markdown",
   "id": "ce17f111-f17b-44f8-b70d-5bcbcaa93ad7",
   "metadata": {},
   "source": [
    "# Dictionaries"
   ]
  },
  {
   "attachments": {
    "c183ff3f-f0bb-4e04-8552-aa54f8d5ff16.png": {
     "image/png": "[encoded data removed]"
    }
   },
   "cell_type": "markdown",
   "id": "8dbe2584-53c0-4cce-9e79-9e173595fa8f",
   "metadata": {},
   "source": [
    "![image.png](attachment:c183ff3f-f0bb-4e04-8552-aa54f8d5ff16.png)"
   ]
  },
  {
   "cell_type": "code",
   "execution_count": 19,
   "id": "faac3268-24f6-4b27-a979-aa26739675df",
   "metadata": {},
   "outputs": [],
   "source": [
    "dict1 = {\"car\":\"mustang\",\"color\":\"black\",\"year\":1969}"
   ]
  },
  {
   "cell_type": "code",
   "execution_count": 20,
   "id": "d22a9017-2069-4394-a0ff-27eebc226ada",
   "metadata": {},
   "outputs": [
    {
     "data": {
      "text/plain": [
       "{'car': 'mustang', 'color': 'black', 'year': 1969}"
      ]
     },
     "execution_count": 20,
     "metadata": {},
     "output_type": "execute_result"
    }
   ],
   "source": [
    "dict1"
   ]
  },
  {
   "cell_type": "code",
   "execution_count": 21,
   "id": "a960759a-30b2-4269-82c1-34962e4e4d2a",
   "metadata": {},
   "outputs": [
    {
     "data": {
      "text/plain": [
       "'mustang'"
      ]
     },
     "execution_count": 21,
     "metadata": {},
     "output_type": "execute_result"
    }
   ],
   "source": [
    "dict1['car']"
   ]
  },
  {
   "cell_type": "code",
   "execution_count": 22,
   "id": "6f0ee2f3-9752-4d1c-8cb2-432a0dffb73f",
   "metadata": {},
   "outputs": [
    {
     "data": {
      "text/plain": [
       "3"
      ]
     },
     "execution_count": 22,
     "metadata": {},
     "output_type": "execute_result"
    }
   ],
   "source": [
    "len(dict1)"
   ]
  },
  {
   "cell_type": "code",
   "execution_count": 23,
   "id": "839ab42c-9b3d-493d-ae60-74f63307a26c",
   "metadata": {},
   "outputs": [
    {
     "data": {
      "text/plain": [
       "\"{'car': 'mustang', 'color': 'black', 'year': 1969}\""
      ]
     },
     "execution_count": 23,
     "metadata": {},
     "output_type": "execute_result"
    }
   ],
   "source": [
    "str(dict1)"
   ]
  },
  {
   "cell_type": "code",
   "execution_count": 24,
   "id": "929c5a7e-b9e9-4384-8a03-f9e4bee2d83d",
   "metadata": {},
   "outputs": [],
   "source": [
    "dictc = dict1.copy()"
   ]
  },
  {
   "cell_type": "code",
   "execution_count": 25,
   "id": "8a04efd8-de3f-4700-92da-b5d8e061d1b2",
   "metadata": {},
   "outputs": [
    {
     "data": {
      "text/plain": [
       "{'car': 'mustang', 'color': 'black', 'year': 1969}"
      ]
     },
     "execution_count": 25,
     "metadata": {},
     "output_type": "execute_result"
    }
   ],
   "source": [
    "dictc"
   ]
  },
  {
   "cell_type": "code",
   "execution_count": 31,
   "id": "7014bdde-c18a-442d-a434-245b4a576609",
   "metadata": {},
   "outputs": [
    {
     "data": {
      "text/plain": [
       "{}"
      ]
     },
     "execution_count": 31,
     "metadata": {},
     "output_type": "execute_result"
    }
   ],
   "source": [
    "dictc.clear()\n",
    "dictc"
   ]
  },
  {
   "cell_type": "code",
   "execution_count": 34,
   "id": "e2ebe548-2b83-4c32-83c9-3c8c001eaedd",
   "metadata": {},
   "outputs": [
    {
     "data": {
      "text/plain": [
       "{'car': None, 'color': None, 'year': None}"
      ]
     },
     "execution_count": 34,
     "metadata": {},
     "output_type": "execute_result"
    }
   ],
   "source": [
    "dict1.fromkeys(dict1)"
   ]
  },
  {
   "cell_type": "code",
   "execution_count": 35,
   "id": "4ab1eb85-e24e-47ef-abbe-adffa14cc0d9",
   "metadata": {},
   "outputs": [
    {
     "data": {
      "text/plain": [
       "'mustang'"
      ]
     },
     "execution_count": 35,
     "metadata": {},
     "output_type": "execute_result"
    }
   ],
   "source": [
    "dict1.get('car')"
   ]
  },
  {
   "cell_type": "markdown",
   "id": "91423b2b-9369-49d7-ac0d-3396a5acead5",
   "metadata": {},
   "source": [
    "#### dict1.has_key('year') \"method is no longer available in Python 3\""
   ]
  },
  {
   "cell_type": "code",
   "execution_count": 39,
   "id": "421f01f3-4779-4b7f-b230-b8f7f5c02e89",
   "metadata": {},
   "outputs": [
    {
     "data": {
      "text/plain": [
       "dict_items([('car', 'mustang'), ('color', 'black'), ('year', 1969)])"
      ]
     },
     "execution_count": 39,
     "metadata": {},
     "output_type": "execute_result"
    }
   ],
   "source": [
    "dict1.items()"
   ]
  },
  {
   "cell_type": "code",
   "execution_count": 40,
   "id": "13c5ca10-8218-4e77-830f-91113836a886",
   "metadata": {},
   "outputs": [
    {
     "data": {
      "text/plain": [
       "dict_keys(['car', 'color', 'year'])"
      ]
     },
     "execution_count": 40,
     "metadata": {},
     "output_type": "execute_result"
    }
   ],
   "source": [
    "dict1.keys()"
   ]
  },
  {
   "cell_type": "code",
   "execution_count": 47,
   "id": "54b22815-5c38-41d9-a741-9a8125c8a961",
   "metadata": {},
   "outputs": [
    {
     "data": {
      "text/plain": [
       "dict_values(['mustang', 'black', 1969])"
      ]
     },
     "execution_count": 47,
     "metadata": {},
     "output_type": "execute_result"
    }
   ],
   "source": [
    "dict1.values()"
   ]
  },
  {
   "cell_type": "code",
   "execution_count": 48,
   "id": "a3923962-85d7-4686-80bd-e4bb8a4464ff",
   "metadata": {},
   "outputs": [
    {
     "data": {
      "text/plain": [
       "{'car': 'mustang', 'color': 'black', 'year': 1969}"
      ]
     },
     "execution_count": 48,
     "metadata": {},
     "output_type": "execute_result"
    }
   ],
   "source": [
    "dict1"
   ]
  },
  {
   "cell_type": "markdown",
   "id": "d22ed866-53f8-4651-a9c6-db286c566dbd",
   "metadata": {},
   "source": [
    "# Membership operators"
   ]
  },
  {
   "cell_type": "code",
   "execution_count": 50,
   "id": "5dc20f40-1fcf-425c-ae15-7a1929cb1a8a",
   "metadata": {},
   "outputs": [],
   "source": [
    "mylist = [1,2,3,4,5]"
   ]
  },
  {
   "cell_type": "code",
   "execution_count": 53,
   "id": "ab2bf226-f05e-4cb3-bd5b-f72a15d75c14",
   "metadata": {},
   "outputs": [
    {
     "name": "stdout",
     "output_type": "stream",
     "text": [
      "False\n"
     ]
    }
   ],
   "source": [
    "print (20 in mylist)"
   ]
  },
  {
   "cell_type": "code",
   "execution_count": 54,
   "id": "c914929d-f7f6-4604-9c99-5bb98d91e41c",
   "metadata": {},
   "outputs": [
    {
     "data": {
      "text/plain": [
       "True"
      ]
     },
     "execution_count": 54,
     "metadata": {},
     "output_type": "execute_result"
    }
   ],
   "source": [
    "2 in mylist"
   ]
  },
  {
   "cell_type": "code",
   "execution_count": 56,
   "id": "a5636c24-e8e4-4453-927a-01b0e989c9b7",
   "metadata": {},
   "outputs": [
    {
     "data": {
      "text/plain": [
       "False"
      ]
     },
     "execution_count": 56,
     "metadata": {},
     "output_type": "execute_result"
    }
   ],
   "source": [
    "2 not in mylist"
   ]
  }
 ],
 "metadata": {
  "kernelspec": {
   "display_name": "Python [conda env:base] *",
   "language": "python",
   "name": "conda-base-py"
  },
  "language_info": {
   "codemirror_mode": {
    "name": "ipython",
    "version": 3
   },
   "file_extension": ".py",
   "mimetype": "text/x-python",
   "name": "python",
   "nbconvert_exporter": "python",
   "pygments_lexer": "ipython3",
   "version": "3.13.5"
  }
 },
 "nbformat": 4,
 "nbformat_minor": 5
}
